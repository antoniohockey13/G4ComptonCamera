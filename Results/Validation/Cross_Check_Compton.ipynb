{
 "cells": [
  {
   "cell_type": "markdown",
   "id": "e1d063a9",
   "metadata": {
    "slideshow": {
     "slide_type": "slide"
    }
   },
   "source": [
    "# Corss Check Compton between Simulation and Script\n",
    "\n",
    "__Author: Antonio Gómez Carrera__"
   ]
  },
  {
   "cell_type": "code",
   "execution_count": 1,
   "id": "2bfe5d92",
   "metadata": {
    "slideshow": {
     "slide_type": "skip"
    }
   },
   "outputs": [
    {
     "name": "stdout",
     "output_type": "stream",
     "text": [
      "Welcome to JupyROOT 6.30/02\n"
     ]
    }
   ],
   "source": [
    "import ROOT"
   ]
  },
  {
   "cell_type": "code",
   "execution_count": 2,
   "id": "cfc525c2",
   "metadata": {
    "slideshow": {
     "slide_type": "skip"
    }
   },
   "outputs": [],
   "source": [
    "name = 'output0-0_t0.root'\n",
    "file = ROOT.TFile(name)"
   ]
  },
  {
   "cell_type": "markdown",
   "id": "c468d6bb",
   "metadata": {
    "slideshow": {
     "slide_type": "slide"
    }
   },
   "source": [
    "Parameters used:\n",
    "\n",
    "```\n",
    "    _world_width = 682*mm;\n",
    "    _world_height = 562*mm;\n",
    "    _world_depth = 354*mm;\n",
    "\n",
    "    _detector_size = 300*mm;\n",
    "    _detector_thickness = 150*um;\n",
    "    _detector_number = 2;\n",
    "    \n",
    "    _detector_distance[1] = 100*mm;\n",
    "    _detector_distance[2] = 200*mm;\n",
    "    \n",
    "    Particle_Energy = 70keV\n",
    "\n",
    "```\n",
    "\n",
    "Beam of 500 000 000 particles\n",
    "\n",
    "Physic lists:\n",
    "* EmStandarPhysics_option4\n",
    "* DecayPhysics\n"
   ]
  },
  {
   "cell_type": "markdown",
   "id": "e4471d06",
   "metadata": {
    "slideshow": {
     "slide_type": "subslide"
    }
   },
   "source": [
    "### Do a loop to check the flight of time of each particle\n",
    "Select interesting events"
   ]
  },
  {
   "cell_type": "code",
   "execution_count": 3,
   "id": "6fe718c9",
   "metadata": {
    "slideshow": {
     "slide_type": "skip"
    }
   },
   "outputs": [],
   "source": [
    "print_bool = False\n",
    "# Create a new TFile for storing Compton events\n",
    "compton_events = ROOT.TFile(f\"compton_events_{name}\", \"RECREATE\")\n",
    "\n",
    "pre_event = -1\n",
    "pre_detector = -1\n",
    "pre_particle = -1\n",
    "pre_time = -1\n",
    "\n",
    "# Create a new TTree for storing Compton events\n",
    "compton_tree = ROOT.TTree(\"Hits\", \"Hits\")\n",
    "event = ROOT.vector('int')()\n",
    "Detector1Time = ROOT.vector('double')()\n",
    "Detector2Time = ROOT.vector('double')()\n",
    "\n",
    "# Define branches in the new TTree\n",
    "compton_tree.Branch(\"Event\", event)\n",
    "compton_tree.Branch(\"Detector1Time\", Detector1Time)\n",
    "compton_tree.Branch(\"Detector2Time\", Detector2Time)\n",
    "\n",
    "\n",
    "for line in file.Hits:\n",
    "    if line.ParticleID == 22:    \n",
    "        if line.Event == pre_event:\n",
    "            # Time selection to avoid hits in detector2 first\n",
    "            if line.DetectorID != pre_detector and pre_time <= 600:\n",
    "                if print_bool:\n",
    "                    print(\"Photon detected in both detectors\")\n",
    "                    print(\"Event: \", line.Event)\n",
    "                    print(\"Time in detector 1: \", pre_time)\n",
    "                    print(\"Time in detector 2: \", line.Time)\n",
    "                \n",
    "                # Fill the Compton event information to the new TTree\n",
    "                event.push_back(line.Event)\n",
    "                Detector1Time.push_back(pre_time)\n",
    "                Detector2Time.push_back(line.Time)\n",
    "        \n",
    "        pre_event = line.Event\n",
    "        pre_detector = line.DetectorID\n",
    "        pre_particle = line.ParticleID\n",
    "        pre_time = line.Time\n",
    "\n",
    "compton_tree.Fill()\n",
    "compton_tree.Write()\n",
    "compton_events.Write()\n",
    "compton_events.Close()"
   ]
  },
  {
   "cell_type": "code",
   "execution_count": 7,
   "id": "bb8167b3",
   "metadata": {
    "slideshow": {
     "slide_type": "subslide"
    }
   },
   "outputs": [
    {
     "data": {
      "image/png": "[encoded data removed]",
      "text/plain": [
       "<IPython.core.display.Image object>"
      ]
     },
     "metadata": {},
     "output_type": "display_data"
    }
   ],
   "source": [
    "compton_events = ROOT.TFile(f\"compton_events_{name}\")\n",
    "c11 = ROOT.TCanvas()\n",
    "c11.SetLogy()\n",
    "compton_events.Hits.Draw(\"100/((Detector2Time-Detector1Time)*0.3)>>hcos1\",\"\", \"\")\n",
    "hcos1 = ROOT.gDirectory.Get(\"hcos1\")\n",
    "hcos1.GetXaxis().SetTitle('cos Theta')\n",
    "c11.Draw()"
   ]
  },
  {
   "cell_type": "code",
   "execution_count": 6,
   "id": "9d9728b2",
   "metadata": {},
   "outputs": [
    {
     "data": {
      "image/png": "[encoded data removed]",
      "text/plain": [
       "<IPython.core.display.Image object>"
      ]
     },
     "metadata": {},
     "output_type": "display_data"
    }
   ],
   "source": [
    "# Only for simulation with ComptonHits tree\n",
    "c11a = ROOT.TCanvas()\n",
    "c11a.SetLogy()\n",
    "file.ComptonHits.Draw(\"100/((Time2-Time1)*0.3)>>hcos2\",\"\", \"\")\n",
    "hcos2 = ROOT.gDirectory.Get(\"hcos2\")\n",
    "hcos2.GetXaxis().SetTitle('cos Theta')\n",
    "c11a.Draw()\n"
   ]
  },
  {
   "cell_type": "markdown",
   "id": "b2975a78",
   "metadata": {},
   "source": [
    "Compton efficienciy ($\\epsilon$)\n",
    "\n",
    "$$\n",
    "\\epsilon = \\frac{\\text{Compton events}}{\\text{Total events}}= \\frac{9805}{5e8}=1.961e-5\n",
    "\n",
    "$$\n"
   ]
  }
 ],
 "metadata": {
  "celltoolbar": "Slideshow",
  "kernelspec": {
   "display_name": "Python 3 (ipykernel)",
   "language": "python",
   "name": "python3"
  },
  "language_info": {
   "codemirror_mode": {
    "name": "ipython",
    "version": 3
   },
   "file_extension": ".py",
   "mimetype": "text/x-python",
   "name": "python",
   "nbconvert_exporter": "python",
   "pygments_lexer": "ipython3",
   "version": "3.10.12"
  }
 },
 "nbformat": 4,
 "nbformat_minor": 5
}
